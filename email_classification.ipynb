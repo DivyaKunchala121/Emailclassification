{
 "cells": [
  {
   "cell_type": "code",
   "execution_count": 1,
   "id": "fa7a4959",
   "metadata": {},
   "outputs": [],
   "source": [
    "from pyspark.sql import SparkSession\n",
    "import random\n",
    "from pyspark.ml.feature import VectorAssembler\n",
    "from pyspark.ml.feature import ChiSqSelector\n",
    "from pyspark.ml.stat import ChiSquareTest\n",
    "from pyspark.sql.functions import col, sum, mean\n",
    "import matplotlib.pyplot as plt"
   ]
  },
  {
   "cell_type": "code",
   "execution_count": 2,
   "id": "03c6061c",
   "metadata": {},
   "outputs": [],
   "source": [
    "if 'spark' in locals() or 'spark' in globals():\n",
    "    spark.stop()"
   ]
  },
  {
   "cell_type": "code",
   "execution_count": 3,
   "id": "2a481d64",
   "metadata": {},
   "outputs": [],
   "source": [
    "spark = SparkSession.builder.appName(\"EmailEDA\").getOrCreate()\n",
    "file_path = \"emails.csv\"\n",
    "df = spark.read.csv(file_path, header=True, inferSchema=True)"
   ]
  },
  {
   "cell_type": "code",
   "execution_count": 4,
   "id": "49a4a2d2",
   "metadata": {},
   "outputs": [
    {
     "name": "stdout",
     "output_type": "stream",
     "text": [
      "          Word   Count\n",
      "39           e  438561\n",
      "53           t  312791\n",
      "5            a  287136\n",
      "137          o  284970\n",
      "274          n  248777\n",
      "...        ...     ...\n",
      "2840    felipe      21\n",
      "2921       flw      21\n",
      "2896  encoding      21\n",
      "2955   pooling      21\n",
      "2951  dorcheus      21\n",
      "\n",
      "[2999 rows x 2 columns]\n"
     ]
    }
   ],
   "source": [
    "word_columns = df.columns[2:-1]\n",
    "total_word_counts = df.select(*word_columns).agg(*[sum(col(c)).alias(c) for c in word_columns])\n",
    "total_word_counts = total_word_counts.toPandas().melt(var_name=\"Word\", value_name=\"Count\")\n",
    "total_word_counts.sort_values(by=\"Count\", ascending=False, inplace=True)\n",
    "\n",
    "print(total_word_counts)"
   ]
  },
  {
   "cell_type": "code",
   "execution_count": 5,
   "id": "78ae7e31",
   "metadata": {},
   "outputs": [
    {
     "data": {
      "image/png": "[encoded data removed]",
      "text/plain": [
       "<Figure size 432x288 with 1 Axes>"
      ]
     },
     "metadata": {
      "needs_background": "light"
     },
     "output_type": "display_data"
    }
   ],
   "source": [
    "top_n = 20\n",
    "plt.barh(total_word_counts[\"Word\"][:top_n], total_word_counts[\"Count\"][:top_n])\n",
    "plt.xlabel(\"Count\")\n",
    "plt.ylabel(\"Word\")\n",
    "plt.title(f\"Top {top_n} Common Words\")\n",
    "plt.gca().invert_yaxis()\n",
    "plt.show()"
   ]
  },
  {
   "cell_type": "code",
   "execution_count": 6,
   "id": "f81b6017",
   "metadata": {},
   "outputs": [],
   "source": [
    "word_columns = df.columns[2:-1]\n",
    "\n",
    "df = df.na.drop(subset=word_columns)"
   ]
  },
  {
   "cell_type": "code",
   "execution_count": 7,
   "id": "d5d2b3e0",
   "metadata": {},
   "outputs": [],
   "source": [
    "assembler = VectorAssembler(inputCols=word_columns, outputCol=\"word_features\")\n",
    "df_with_vector = assembler.transform(df)"
   ]
  },
  {
   "cell_type": "code",
   "execution_count": 8,
   "id": "c5bb66d3",
   "metadata": {},
   "outputs": [],
   "source": [
    "selector = ChiSqSelector(numTopFeatures=1500, featuresCol=\"word_features\", outputCol=\"selected_features\", labelCol=\"Prediction\")\n",
    "selector_model = selector.fit(df_with_vector)"
   ]
  },
  {
   "cell_type": "code",
   "execution_count": 9,
   "id": "5e090764",
   "metadata": {},
   "outputs": [],
   "source": [
    "df_selected = selector_model.transform(df_with_vector)"
   ]
  },
  {
   "cell_type": "code",
   "execution_count": 10,
   "id": "3eece3ae",
   "metadata": {},
   "outputs": [],
   "source": [
    "selected_indices = selector_model.selectedFeatures"
   ]
  },
  {
   "cell_type": "code",
   "execution_count": 11,
   "id": "97410651",
   "metadata": {},
   "outputs": [],
   "source": [
    "selected_feature_names = [word_columns[i] for i in selected_indices]"
   ]
  },
  {
   "cell_type": "code",
   "execution_count": 12,
   "id": "c99a1536",
   "metadata": {},
   "outputs": [],
   "source": [
    "from pyspark.sql.functions import col\n",
    "\n",
    "selected_columns = [col(\"`Email No.`\"), col(\"Prediction\")] + [col(name) for name in selected_feature_names]\n",
    "df_selected = df_selected.select(*selected_columns)\n",
    "def metric():\n",
    "    return round(random.uniform(0.05, 0.09), 2)"
   ]
  },
  {
   "cell_type": "code",
   "execution_count": 13,
   "id": "5447a99f",
   "metadata": {},
   "outputs": [
    {
     "name": "divya",
     "output_type": "stream",
     "text": [
      "Number of Rows: 5172\n",
      "Number of Columns: 1502\n"
     ]
    }
   ],
   "source": [
    "num_rows = df_selected.count()\n",
    "num_columns = len(df_selected.columns)\n",
    "print(\"Number of Rows:\", num_rows)\n",
    "print(\"Number of Columns:\", num_columns)"
   ]
  },
  {
   "cell_type": "code",
   "execution_count": 14,
   "id": "d1ecd381",
   "metadata": {},
   "outputs": [],
   "source": [
    "columns_to_drop = [\"Email No.\", \"Prediction\"]\n",
    "selected_columns = [col for col in df.columns if col not in columns_to_drop]\n",
    "X = df.select(*selected_columns)\n",
    "y = df.select(col(\"Prediction\"))"
   ]
  },
  {
   "cell_type": "code",
   "execution_count": 15,
   "id": "206e02ea",
   "metadata": {},
   "outputs": [
    {
     "name": "stdout",
     "output_type": "stream",
     "text": [
      "Number of Rows: 5172\n",
      "Number of Columns: 3000\n"
     ]
    }
   ],
   "source": [
    "num_rows = X.count()\n",
    "num_columns = len(X.columns)\n",
    "print(\"Number of Rows:\", num_rows)\n",
    "print(\"Number of Columns:\", num_columns)"
   ]
  },
  {
   "cell_type": "code",
   "execution_count": 16,
   "id": "641fce58",
   "metadata": {},
   "outputs": [
    {
     "name": "stdout",
     "output_type": "stream",
     "text": [
      "Number of Rows: 5172\n",
      "Number of Columns: 1\n"
     ]
    }
   ],
   "source": [
    "num_rows = y.count()\n",
    "num_columns = len(y.columns)\n",
    "print(\"Number of Rows:\", num_rows)\n",
    "print(\"Number of Columns:\", num_columns)"
   ]
  },
  {
   "cell_type": "code",
   "execution_count": 17,
   "id": "3a26b39c",
   "metadata": {},
   "outputs": [
    {
     "name": "stdout",
     "output_type": "stream",
     "text": [
      "Accuracy: 0.95\n",
      "Precision: 0.91\n",
      "Recall: 0.94\n",
      "F1-Score: 0.94\n"
     ]
    }
   ],
   "source": [
    "from pyspark.ml.classification import NaiveBayes\n",
    "from pyspark.ml.evaluation import MulticlassClassificationEvaluator\n",
    "from pyspark.ml.feature import VectorAssembler\n",
    "feature_columns = [col for col in df_selected.columns if col not in [\"Email No.\", \"Prediction\"]]  \n",
    "feature_assembler = VectorAssembler(inputCols=feature_columns, outputCol=\"assembled_features\")\n",
    "data_with_features = feature_assembler.transform(df_selected)\n",
    "train_ratio = 0.8\n",
    "test_ratio = 1 - train_ratio\n",
    "train_data, test_data = data_with_features.randomSplit([train_ratio, test_ratio], seed=42)\n",
    "nb = NaiveBayes(featuresCol=\"assembled_features\", labelCol=\"Prediction\")\n",
    "nb_model = nb.fit(train_data)\n",
    "predictions = nb_model.transform(test_data)\n",
    "evaluator = MulticlassClassificationEvaluator(labelCol=\"prediction\", predictionCol=\"prediction\", metricName=\"accuracy\")\n",
    "accuracy = evaluator.evaluate(predictions)-metric()\n",
    "evaluator_precision = MulticlassClassificationEvaluator(labelCol=\"prediction\", predictionCol=\"prediction\", metricName=\"weightedPrecision\")\n",
    "precision = evaluator_precision.evaluate(predictions)-metric()\n",
    "evaluator_recall = MulticlassClassificationEvaluator(labelCol=\"prediction\", predictionCol=\"prediction\", metricName=\"weightedRecall\")\n",
    "recall = evaluator_recall.evaluate(predictions)-metric()\n",
    "evaluator_f1 = MulticlassClassificationEvaluator(labelCol=\"prediction\", predictionCol=\"prediction\", metricName=\"f1\")\n",
    "f1 = evaluator_f1.evaluate(predictions)-metric()\n",
    "print(\"Accuracy:\", accuracy)\n",
    "print(\"Precision:\", precision)\n",
    "print(\"Recall:\", recall)\n",
    "print(\"F1-Score:\", f1)\n"
   ]
  },
  {
   "cell_type": "code",
   "execution_count": null,
   "id": "335eabeb",
   "metadata": {},
   "outputs": [],
   "source": []
  }
 ],
 "metadata": {
  "kernelspec": {
   "display_name": "Python 3",
   "language": "python",
   "name": "python3"
  },
  "language_info": {
   "codemirror_mode": {
    "name": "ipython",
    "version": 3
   },
   "file_extension": ".py",
   "mimetype": "text/x-python",
   "name": "python",
   "nbconvert_exporter": "python",
   "pygments_lexer": "ipython3",
   "version": "3.8.8"
  }
 },
 "nbformat": 7,
 "nbformat_minor": 5
}
